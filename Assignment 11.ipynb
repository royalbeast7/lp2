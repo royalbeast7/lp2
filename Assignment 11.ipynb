{
 "cells": [
  {
   "cell_type": "code",
   "execution_count": null,
   "id": "41b90e76",
   "metadata": {},
   "outputs": [
    {
     "name": "stdout",
     "output_type": "stream",
     "text": [
      "Chatbot: Hi, welcome to our customer service! How can I assist you today?\n",
      "User: i wish to place order\n",
      "Chatbot: Sure, I can help you with your order. Please provide me with your order details.\n"
     ]
    }
   ],
   "source": [
    "# Define a function to handle user input and generate responses\n",
    "def chatbot():\n",
    "    print(\"Chatbot: Hi, welcome to our customer service! How can I assist you today?\")\n",
    "    while True:\n",
    "        user_input = input(\"User: \")\n",
    "\n",
    "        # Check for exit condition\n",
    "        if user_input.lower() == \"bye\":\n",
    "            print(\"Chatbot: Thank you for chatting with us. Have a great day!\")\n",
    "            break\n",
    "\n",
    "        # Generate a response\n",
    "        response = generate_response(user_input)\n",
    "        print(\"Chatbot:\", response)\n",
    "\n",
    "# Define a function to generate a response based on user input\n",
    "def generate_response(user_input):\n",
    "    # Mapping of user inputs to corresponding responses\n",
    "    if \"order\" in user_input:\n",
    "        return \"Sure, I can help you with your order. Please provide me with your order details.\"\n",
    "    elif \"delivery\" in user_input or \"shipping\" in user_input:\n",
    "        return \"Our standard delivery time is 3-5 business days. Is there anything specific you would like to know?\"\n",
    "    elif \"payment\" in user_input or \"pay\" in user_input:\n",
    "        return \"We accept various payment methods such as credit cards, PayPal, and bank transfers. How would you like to pay?\"\n",
    "    else:\n",
    "        return \"I'm sorry, I couldn't understand your request. Could you please rephrase it?\"\n",
    "\n",
    "# Start the chatbot\n",
    "chatbot()\n"
   ]
  },
  {
   "cell_type": "code",
   "execution_count": null,
   "id": "0cef019e",
   "metadata": {},
   "outputs": [],
   "source": []
  }
 ],
 "metadata": {
  "kernelspec": {
   "display_name": "Python 3 (ipykernel)",
   "language": "python",
   "name": "python3"
  },
  "language_info": {
   "codemirror_mode": {
    "name": "ipython",
    "version": 3
   },
   "file_extension": ".py",
   "mimetype": "text/x-python",
   "name": "python",
   "nbconvert_exporter": "python",
   "pygments_lexer": "ipython3",
   "version": "3.9.1"
  }
 },
 "nbformat": 4,
 "nbformat_minor": 5
}
