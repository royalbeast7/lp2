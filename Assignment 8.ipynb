{
 "cells": [
  {
   "cell_type": "code",
   "execution_count": null,
   "id": "8abc1fec",
   "metadata": {},
   "outputs": [
    {
     "name": "stdout",
     "output_type": "stream",
     "text": [
      "Enter the number of vertices:\n"
     ]
    }
   ],
   "source": [
    "class UnionFind:\n",
    "    def __init__(self, n):\n",
    "        self.parent = list(range(n))\n",
    "        self.rank = [0] * n\n",
    "\n",
    "    def find(self, x):\n",
    "        if self.parent[x] != x:\n",
    "            self.parent[x] = self.find(self.parent[x])\n",
    "        return self.parent[x]\n",
    "\n",
    "    def union(self, x, y):\n",
    "        root_x = self.find(x)\n",
    "        root_y = self.find(y)\n",
    "\n",
    "        if self.rank[root_x] < self.rank[root_y]:\n",
    "            self.parent[root_x] = root_y\n",
    "        elif self.rank[root_x] > self.rank[root_y]:\n",
    "            self.parent[root_y] = root_x\n",
    "        else:\n",
    "            self.parent[root_y] = root_x\n",
    "            self.rank[root_x] += 1\n",
    "\n",
    "class Graph:\n",
    "    def __init__(self, vertices):\n",
    "        self.V = vertices\n",
    "        self.edges = []\n",
    "\n",
    "    def add_edge(self, u, v, weight):\n",
    "        self.edges.append((u, v, weight))\n",
    "\n",
    "    def kruskal_mst(self):\n",
    "        # Sort edges in ascending order of weight\n",
    "        self.edges.sort(key=lambda x: x[2])\n",
    "\n",
    "        mst = []\n",
    "        union_find = UnionFind(self.V)\n",
    "\n",
    "        for edge in self.edges:\n",
    "            u, v, weight = edge\n",
    "\n",
    "            if union_find.find(u) != union_find.find(v):\n",
    "                # Add the edge to the MST\n",
    "                mst.append(edge)\n",
    "                union_find.union(u, v)\n",
    "\n",
    "        return mst\n",
    "\n",
    "# User input to get the number of vertices and edges\n",
    "print(\"Enter the number of vertices:\")\n",
    "num_vertices = int(input())\n",
    "\n",
    "print(\"Enter the number of edges:\")\n",
    "num_edges = int(input())\n",
    "\n",
    "# Create a graph\n",
    "graph = Graph(num_vertices)\n",
    "\n",
    "# User input to add edges and their weights\n",
    "print(\"Enter the edges and their weights (e.g., '0 1 5' means an edge between vertices 0 and 1 with weight 5):\")\n",
    "for _ in range(num_edges):\n",
    "    u, v, weight = map(int, input().split())\n",
    "    graph.add_edge(u, v, weight)\n",
    "\n",
    "# Find and print the Minimum Spanning Tree (MST)\n",
    "mst = graph.kruskal_mst()\n",
    "\n",
    "print(\"Edges of Minimum Spanning Tree:\")\n",
    "for edge in mst:\n",
    "    u, v, weight = edge\n",
    "    print(u, \"-\", v, \"\\tWeight:\", weight)\n"
   ]
  },
  {
   "cell_type": "code",
   "execution_count": null,
   "id": "eb6daaa4",
   "metadata": {},
   "outputs": [],
   "source": []
  },
  {
   "cell_type": "code",
   "execution_count": null,
   "id": "66d3bb9d",
   "metadata": {},
   "outputs": [],
   "source": []
  }
 ],
 "metadata": {
  "kernelspec": {
   "display_name": "Python 3 (ipykernel)",
   "language": "python",
   "name": "python3"
  },
  "language_info": {
   "codemirror_mode": {
    "name": "ipython",
    "version": 3
   },
   "file_extension": ".py",
   "mimetype": "text/x-python",
   "name": "python",
   "nbconvert_exporter": "python",
   "pygments_lexer": "ipython3",
   "version": "3.9.1"
  }
 },
 "nbformat": 4,
 "nbformat_minor": 5
}
