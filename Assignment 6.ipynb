{
 "cells": [
  {
   "cell_type": "code",
   "execution_count": 5,
   "id": "76a39da1",
   "metadata": {},
   "outputs": [
    {
     "name": "stdout",
     "output_type": "stream",
     "text": [
      "Enter the number of jobs:\n",
      "6\n",
      "Enter the jobs and their deadlines (e.g., 'Job1 2' means Job1 with deadline 2):\n",
      "Job1 3\n",
      "Job2 6\n",
      "Job3 9\n",
      "Job4 10\n",
      "Job5 5\n",
      "Job6 2\n",
      "Scheduled Jobs:\n",
      "('Job4', 10)\n",
      "('Job6', 2)\n",
      "('Job1', 3)\n",
      "('Job3', 9)\n",
      "('Job5', 5)\n",
      "('Job2', 6)\n"
     ]
    }
   ],
   "source": [
    "def job_scheduling(jobs):\n",
    "    # Sort jobs based on deadlines in ascending order\n",
    "    jobs.sort(key=lambda x: x[1])\n",
    "    \n",
    "    n = len(jobs)\n",
    "    result = [False] * n  # Initialize a list to store the scheduling result\n",
    "    timeslots = [-1] * n  # Initialize a list to store the assigned time slots\n",
    "    \n",
    "    for i in range(n):\n",
    "        # Find the latest available time slot for the job\n",
    "        for j in range(min(n, jobs[i][1]) - 1, -1, -1):\n",
    "            if timeslots[j] == -1:\n",
    "                timeslots[j] = i\n",
    "                result[i] = True\n",
    "                break\n",
    "\n",
    "    # Print the scheduled jobs\n",
    "    print(\"Scheduled Jobs:\")\n",
    "    for i in range(n):\n",
    "        if result[i]:\n",
    "            print(jobs[timeslots[i]])\n",
    "\n",
    "# User input to get the number of jobs\n",
    "print(\"Enter the number of jobs:\")\n",
    "num_jobs = int(input())\n",
    "\n",
    "jobs = []\n",
    "# User input to add jobs and their deadlines\n",
    "print(\"Enter the jobs and their deadlines (e.g., 'Job1 2' means Job1 with deadline 2):\")\n",
    "for _ in range(num_jobs):\n",
    "    job, deadline = input().split()\n",
    "    jobs.append((job, int(deadline)))\n",
    "\n",
    "# Call the job_scheduling function\n",
    "job_scheduling(jobs)\n"
   ]
  },
  {
   "cell_type": "code",
   "execution_count": null,
   "id": "8170b8d4",
   "metadata": {},
   "outputs": [],
   "source": []
  },
  {
   "cell_type": "code",
   "execution_count": null,
   "id": "94aec972",
   "metadata": {},
   "outputs": [],
   "source": []
  }
 ],
 "metadata": {
  "kernelspec": {
   "display_name": "Python 3 (ipykernel)",
   "language": "python",
   "name": "python3"
  },
  "language_info": {
   "codemirror_mode": {
    "name": "ipython",
    "version": 3
   },
   "file_extension": ".py",
   "mimetype": "text/x-python",
   "name": "python",
   "nbconvert_exporter": "python",
   "pygments_lexer": "ipython3",
   "version": "3.9.1"
  }
 },
 "nbformat": 4,
 "nbformat_minor": 5
}
