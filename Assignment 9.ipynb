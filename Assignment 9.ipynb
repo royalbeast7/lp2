{
 "cells": [
  {
   "cell_type": "code",
   "execution_count": 1,
   "id": "ad9458c2",
   "metadata": {},
   "outputs": [
    {
     "name": "stdout",
     "output_type": "stream",
     "text": [
      "Enter the number of vertices:\n",
      "3\n",
      "Enter the number of edges:\n",
      "2\n",
      "Enter the edges and their weights (e.g., '0 1 5' means an edge between vertices 0 and 1 with weight 5):\n",
      "0 1 6\n",
      "1 2 4\n",
      "Enter the source vertex:\n",
      "0\n",
      "Shortest Distances from Vertex 0\n",
      "Vertex: 0 \tDistance: 0\n",
      "Vertex: 1 \tDistance: 6\n",
      "Vertex: 2 \tDistance: 10\n"
     ]
    }
   ],
   "source": [
    "import heapq\n",
    "from collections import defaultdict\n",
    "\n",
    "class Graph:\n",
    "    def __init__(self):\n",
    "        self.graph = defaultdict(list)\n",
    "\n",
    "    def add_edge(self, u, v, weight):\n",
    "        self.graph[u].append((v, weight))\n",
    "        self.graph[v].append((u, weight))\n",
    "\n",
    "    def dijkstra(self, source):\n",
    "        distances = {vertex: float('inf') for vertex in self.graph}\n",
    "        distances[source] = 0\n",
    "\n",
    "        min_heap = [(0, source)]\n",
    "\n",
    "        while min_heap:\n",
    "            dist, curr_vertex = heapq.heappop(min_heap)\n",
    "\n",
    "            if dist > distances[curr_vertex]:\n",
    "                continue\n",
    "\n",
    "            for neighbor, weight in self.graph[curr_vertex]:\n",
    "                distance = dist + weight\n",
    "\n",
    "                if distance < distances[neighbor]:\n",
    "                    distances[neighbor] = distance\n",
    "                    heapq.heappush(min_heap, (distance, neighbor))\n",
    "\n",
    "        return distances\n",
    "\n",
    "# User input to get the number of vertices and edges\n",
    "print(\"Enter the number of vertices:\")\n",
    "num_vertices = int(input())\n",
    "\n",
    "print(\"Enter the number of edges:\")\n",
    "num_edges = int(input())\n",
    "\n",
    "# Create a graph\n",
    "graph = Graph()\n",
    "\n",
    "# User input to add edges and their weights\n",
    "print(\"Enter the edges and their weights (e.g., '0 1 5' means an edge between vertices 0 and 1 with weight 5):\")\n",
    "for _ in range(num_edges):\n",
    "    u, v, weight = map(int, input().split())\n",
    "    graph.add_edge(u, v, weight)\n",
    "\n",
    "# User input to get the source vertex\n",
    "print(\"Enter the source vertex:\")\n",
    "source_vertex = int(input())\n",
    "\n",
    "# Find the shortest paths from the source vertex to all other vertices\n",
    "distances = graph.dijkstra(source_vertex)\n",
    "\n",
    "# Print the shortest distances\n",
    "print(\"Shortest Distances from Vertex\", source_vertex)\n",
    "for vertex, distance in distances.items():\n",
    "    print(\"Vertex:\", vertex, \"\\tDistance:\", distance)\n",
    "\n",
    "    "
   ]
  },
  {
   "cell_type": "code",
   "execution_count": null,
   "id": "632532e8",
   "metadata": {},
   "outputs": [],
   "source": []
  }
 ],
 "metadata": {
  "kernelspec": {
   "display_name": "Python 3 (ipykernel)",
   "language": "python",
   "name": "python3"
  },
  "language_info": {
   "codemirror_mode": {
    "name": "ipython",
    "version": 3
   },
   "file_extension": ".py",
   "mimetype": "text/x-python",
   "name": "python",
   "nbconvert_exporter": "python",
   "pygments_lexer": "ipython3",
   "version": "3.9.1"
  }
 },
 "nbformat": 4,
 "nbformat_minor": 5
}
