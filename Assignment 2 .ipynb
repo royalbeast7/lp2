{
 "cells": [
  {
   "cell_type": "code",
   "execution_count": 1,
   "id": "5850cda9",
   "metadata": {},
   "outputs": [
    {
     "name": "stdout",
     "output_type": "stream",
     "text": [
      "Enter the number of edges:\n",
      "4\n",
      "Enter the edges (e.g., '1 2' means an edge between vertices 1 and 2):\n",
      "1 2\n",
      "3 1\n",
      "3 4\n",
      "1 1\n",
      "Enter the starting vertex for BFS:\n",
      "2\n",
      "BFS traversal:\n",
      "2 1 3 4 "
     ]
    }
   ],
   "source": [
    "from collections import deque\n",
    "\n",
    "class Graph:\n",
    "    def __init__(self):\n",
    "        self.graph = {}\n",
    "\n",
    "    def add_edge(self, u, v):\n",
    "        if u in self.graph:\n",
    "            self.graph[u].append(v)\n",
    "        else:\n",
    "            self.graph[u] = [v]\n",
    "\n",
    "        if v in self.graph:\n",
    "            self.graph[v].append(u)\n",
    "        else:\n",
    "            self.graph[v] = [u]\n",
    "\n",
    "    def bfs(self, start_vertex):\n",
    "        visited = set()\n",
    "        queue = deque()\n",
    "\n",
    "        visited.add(start_vertex)\n",
    "        queue.append(start_vertex)\n",
    "\n",
    "        while queue:\n",
    "            current_vertex = queue.popleft()\n",
    "            print(current_vertex, end=\" \")\n",
    "\n",
    "            neighbors = self.graph[current_vertex]\n",
    "            for neighbor in neighbors:\n",
    "                if neighbor not in visited:\n",
    "                    visited.add(neighbor)\n",
    "                    queue.append(neighbor)\n",
    "\n",
    "# Create a graph\n",
    "graph = Graph()\n",
    "\n",
    "# User input to add edges\n",
    "print(\"Enter the number of edges:\")\n",
    "num_edges = int(input())\n",
    "\n",
    "print(\"Enter the edges (e.g., '1 2' means an edge between vertices 1 and 2):\")\n",
    "for _ in range(num_edges):\n",
    "    try:\n",
    "        u, v = map(int, input().split())\n",
    "        graph.add_edge(u, v)\n",
    "    except ValueError:\n",
    "        print(\"Invalid input. Please enter two integers separated by a space.\")\n",
    "\n",
    "# Perform BFS\n",
    "print(\"Enter the starting vertex for BFS:\")\n",
    "start_vertex = int(input())\n",
    "\n",
    "print(\"BFS traversal:\")\n",
    "graph.bfs(start_vertex)\n"
   ]
  },
  {
   "cell_type": "markdown",
   "id": "e208ce51",
   "metadata": {},
   "source": [
    "## "
   ]
  },
  {
   "cell_type": "code",
   "execution_count": null,
   "id": "99fcc167",
   "metadata": {},
   "outputs": [],
   "source": []
  }
 ],
 "metadata": {
  "kernelspec": {
   "display_name": "Python 3 (ipykernel)",
   "language": "python",
   "name": "python3"
  },
  "language_info": {
   "codemirror_mode": {
    "name": "ipython",
    "version": 3
   },
   "file_extension": ".py",
   "mimetype": "text/x-python",
   "name": "python",
   "nbconvert_exporter": "python",
   "pygments_lexer": "ipython3",
   "version": "3.9.1"
  }
 },
 "nbformat": 4,
 "nbformat_minor": 5
}
