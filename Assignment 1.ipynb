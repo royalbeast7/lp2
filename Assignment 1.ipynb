{
 "cells": [
  {
   "cell_type": "code",
   "execution_count": 7,
   "id": "1e2027eb",
   "metadata": {},
   "outputs": [
    {
     "name": "stdout",
     "output_type": "stream",
     "text": [
      "Enter the number of edges:\n",
      "6\n",
      "Enter the edges (e.g., '1 2' means an edge between vertices 1 and 2):\n",
      "1 2\n",
      "3 4\n",
      "1 3\n",
      "2 3\n",
      "4 6\n",
      "4 5\n",
      "Enter the starting vertex for DFS:\n",
      "1\n",
      "DFS traversal:\n",
      "1 2 3 4 6 5 "
     ]
    }
   ],
   "source": [
    "class Graph:\n",
    "    def __init__(self):\n",
    "        self.graph = {}\n",
    "\n",
    "    def add_edge(self, u, v):\n",
    "        if u in self.graph:\n",
    "            self.graph[u].append(v)\n",
    "        else:\n",
    "            self.graph[u] = [v]\n",
    "\n",
    "        if v in self.graph:\n",
    "            self.graph[v].append(u)\n",
    "        else:\n",
    "            self.graph[v] = [u]\n",
    "\n",
    "    def dfs(self, start_vertex, visited=None):\n",
    "        if visited is None:\n",
    "            visited = set()\n",
    "\n",
    "        visited.add(start_vertex)\n",
    "        print(start_vertex, end=\" \")\n",
    "\n",
    "        neighbors = self.graph[start_vertex]\n",
    "        for neighbor in neighbors:\n",
    "            if neighbor not in visited:\n",
    "                self.dfs(neighbor, visited)\n",
    "\n",
    "# Create a graph\n",
    "graph = Graph()\n",
    "\n",
    "# User input to add edges\n",
    "print(\"Enter the number of edges:\")\n",
    "num_edges = int(input())\n",
    "\n",
    "print(\"Enter the edges (e.g., '1 2' means an edge between vertices 1 and 2):\")\n",
    "for _ in range(num_edges):\n",
    "    u, v = map(int, input().split())\n",
    "    graph.add_edge(u, v)\n",
    "\n",
    "# Perform DFS\n",
    "print(\"Enter the starting vertex for DFS:\")\n",
    "start_vertex = int(input())\n",
    "\n",
    "print(\"DFS traversal:\")\n",
    "graph.dfs(start_vertex)\n"
   ]
  },
  {
   "cell_type": "code",
   "execution_count": null,
   "id": "b598cc1b",
   "metadata": {},
   "outputs": [],
   "source": []
  },
  {
   "cell_type": "code",
   "execution_count": null,
   "id": "0694bbe0",
   "metadata": {},
   "outputs": [],
   "source": []
  }
 ],
 "metadata": {
  "kernelspec": {
   "display_name": "Python 3 (ipykernel)",
   "language": "python",
   "name": "python3"
  },
  "language_info": {
   "codemirror_mode": {
    "name": "ipython",
    "version": 3
   },
   "file_extension": ".py",
   "mimetype": "text/x-python",
   "name": "python",
   "nbconvert_exporter": "python",
   "pygments_lexer": "ipython3",
   "version": "3.9.1"
  }
 },
 "nbformat": 4,
 "nbformat_minor": 5
}
