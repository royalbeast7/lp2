{
 "cells": [
  {
   "cell_type": "code",
   "execution_count": 7,
   "id": "aaf05bd0",
   "metadata": {},
   "outputs": [
    {
     "name": "stdout",
     "output_type": "stream",
     "text": [
      "Recommendation: Hold the stock\n"
     ]
    }
   ],
   "source": [
    "# Define the expert system for stock market trading\n",
    "def stock_market_expert_system(stock_price, moving_average, rsi):\n",
    "    # Rule 1: If the stock price is above the moving average and the RSI is below 30, recommend buying\n",
    "    if stock_price > moving_average and rsi < 30:\n",
    "        return \"Recommendation: Buy the stock\"\n",
    "    \n",
    "    # Rule 2: If the stock price is below the moving average and the RSI is above 70, recommend selling\n",
    "    if stock_price < moving_average and rsi > 70:\n",
    "        return \"Recommendation: Sell the stock\"\n",
    "    \n",
    "    # Rule 3: If none of the above conditions are met, recommend holding\n",
    "    return \"Recommendation: Hold the stock\"\n",
    "\n",
    "# Example usage\n",
    "stock_price = 50.0\n",
    "moving_average = 60.0\n",
    "rsi = 25.0\n",
    "\n",
    "recommendation = stock_market_expert_system(stock_price, moving_average, rsi)\n",
    "print(recommendation)\n"
   ]
  },
  {
   "cell_type": "code",
   "execution_count": 8,
   "id": "816af07b",
   "metadata": {},
   "outputs": [
    {
     "name": "stdout",
     "output_type": "stream",
     "text": [
      "Enter the RSI value: 50\n",
      "Recommendation: Hold the stock\n"
     ]
    }
   ],
   "source": [
    "def stock_market_expert_system(rsi):\n",
    "    if rsi < 30:\n",
    "        return \"Recommendation: Buy the stock\"\n",
    "    elif rsi > 70:\n",
    "        return \"Recommendation: Sell the stock\"\n",
    "    else:\n",
    "        return \"Recommendation: Hold the stock\"\n",
    "\n",
    "# Example usage\n",
    "rsi = float(input(\"Enter the RSI value: \"))\n",
    "\n",
    "recommendation = stock_market_expert_system(rsi)\n",
    "print(recommendation)\n"
   ]
  },
  {
   "cell_type": "code",
   "execution_count": null,
   "id": "081b7433",
   "metadata": {},
   "outputs": [],
   "source": []
  },
  {
   "cell_type": "code",
   "execution_count": null,
   "id": "f88850d6",
   "metadata": {},
   "outputs": [],
   "source": []
  }
 ],
 "metadata": {
  "kernelspec": {
   "display_name": "Python 3 (ipykernel)",
   "language": "python",
   "name": "python3"
  },
  "language_info": {
   "codemirror_mode": {
    "name": "ipython",
    "version": 3
   },
   "file_extension": ".py",
   "mimetype": "text/x-python",
   "name": "python",
   "nbconvert_exporter": "python",
   "pygments_lexer": "ipython3",
   "version": "3.9.1"
  }
 },
 "nbformat": 4,
 "nbformat_minor": 5
}
