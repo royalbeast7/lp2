{
 "cells": [
  {
   "cell_type": "code",
   "execution_count": 1,
   "id": "6670486d",
   "metadata": {
    "scrolled": false
   },
   "outputs": [
    {
     "name": "stdout",
     "output_type": "stream",
     "text": [
      "Enter the number of vertices:\n",
      "4\n",
      "Enter the number of edges:\n",
      "4\n",
      "Enter the edges and their weights (e.g., '0 1 5' means an edge between vertices 0 and 1 with weight 5):\n",
      "0 1 5\n",
      "1 2 7\n",
      "1 3 6\n",
      "3 2 3\n",
      "Edges of Minimum Spanning Tree:\n",
      "0 - 1 \tWeight: 5\n",
      "3 - 2 \tWeight: 3\n",
      "1 - 3 \tWeight: 6\n"
     ]
    }
   ],
   "source": [
    "import sys\n",
    "\n",
    "class Graph:\n",
    "    def __init__(self, vertices):\n",
    "        self.V = vertices\n",
    "        self.graph = [[0 for _ in range(vertices)] for _ in range(vertices)]\n",
    "\n",
    "    def add_edge(self, u, v, weight):\n",
    "        self.graph[u][v] = weight\n",
    "        self.graph[v][u] = weight\n",
    "\n",
    "    def get_min_key(self, key, mst_set):\n",
    "        min_key = sys.maxsize\n",
    "        min_index = None\n",
    "\n",
    "        for v in range(self.V):\n",
    "            if key[v] < min_key and not mst_set[v]:\n",
    "                min_key = key[v]\n",
    "                min_index = v\n",
    "\n",
    "        return min_index\n",
    "\n",
    "    def prim_mst(self):\n",
    "        key = [sys.maxsize] * self.V\n",
    "        parent = [None] * self.V\n",
    "        mst_set = [False] * self.V\n",
    "\n",
    "        key[0] = 0\n",
    "        parent[0] = -1\n",
    "\n",
    "        for _ in range(self.V):\n",
    "            u = self.get_min_key(key, mst_set)\n",
    "            mst_set[u] = True\n",
    "\n",
    "            for v in range(self.V):\n",
    "                if self.graph[u][v] > 0 and not mst_set[v] and self.graph[u][v] < key[v]:\n",
    "                    key[v] = self.graph[u][v]\n",
    "                    parent[v] = u\n",
    "\n",
    "        print(\"Edges of Minimum Spanning Tree:\")\n",
    "        for i in range(1, self.V):\n",
    "            print(parent[i], \"-\", i, \"\\tWeight:\", self.graph[i][parent[i]])\n",
    "\n",
    "# User input to get the number of vertices and edges\n",
    "print(\"Enter the number of vertices:\")\n",
    "num_vertices = int(input())\n",
    "\n",
    "print(\"Enter the number of edges:\")\n",
    "num_edges = int(input())\n",
    "\n",
    "# Create a graph\n",
    "graph = Graph(num_vertices)\n",
    "\n",
    "# User input to add edges and their weights\n",
    "print(\"Enter the edges and their weights (e.g., '0 1 5' means an edge between vertices 0 and 1 with weight 5):\")\n",
    "for _ in range(num_edges):\n",
    "    u, v, weight = map(int, input().split())\n",
    "    graph.add_edge(u, v, weight)\n",
    "\n",
    "# Find and print the Minimum Spanning Tree\n",
    "graph.prim_mst()\n"
   ]
  },
  {
   "cell_type": "code",
   "execution_count": null,
   "id": "7c22a703",
   "metadata": {},
   "outputs": [],
   "source": []
  },
  {
   "cell_type": "code",
   "execution_count": null,
   "id": "a8795b9e",
   "metadata": {},
   "outputs": [],
   "source": []
  },
  {
   "cell_type": "code",
   "execution_count": null,
   "id": "779834fc",
   "metadata": {},
   "outputs": [],
   "source": []
  }
 ],
 "metadata": {
  "kernelspec": {
   "display_name": "Python 3 (ipykernel)",
   "language": "python",
   "name": "python3"
  },
  "language_info": {
   "codemirror_mode": {
    "name": "ipython",
    "version": 3
   },
   "file_extension": ".py",
   "mimetype": "text/x-python",
   "name": "python",
   "nbconvert_exporter": "python",
   "pygments_lexer": "ipython3",
   "version": "3.9.1"
  }
 },
 "nbformat": 4,
 "nbformat_minor": 5
}
