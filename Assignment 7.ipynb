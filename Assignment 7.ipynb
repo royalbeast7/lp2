{
 "cells": [
  {
   "cell_type": "code",
   "execution_count": 1,
   "id": "704d7af6",
   "metadata": {},
   "outputs": [
    {
     "name": "stdout",
     "output_type": "stream",
     "text": [
      "Enter the number of vertices:\n",
      "5\n",
      "Enter the number of edges:\n",
      "4\n",
      "Enter the edges and their weights (e.g., '0 1 5' means an edge between vertices 0 and 1 with weight 5):\n",
      "0 1 6\n",
      "1 2 3\n",
      "2 3 4\n",
      "3 4 2\n",
      "Edges of Minimum Spanning Tree:\n",
      "6 - 7 \tWeight: 1\n"
     ]
    }
   ],
   "source": [
    "import heapq\n",
    "from collections import defaultdict\n",
    "\n",
    "class Graph:\n",
    "    def __init__(self):\n",
    "        self.graph = defaultdict(list)\n",
    "\n",
    "    def add_edge(self, u, v, weight):\n",
    "        self.graph[u].append((v, weight))\n",
    "        self.graph[v].append((u, weight))\n",
    "\n",
    "    def prim_mst(self):\n",
    "        # Choose a starting vertex\n",
    "        start_vertex = next(iter(self.graph))\n",
    "        visited = set([start_vertex])\n",
    "        min_heap = []\n",
    "        mst = []\n",
    "\n",
    "        # Add all edges from the starting vertex to the min heap\n",
    "        for edge in self.graph[start_vertex]:\n",
    "            heapq.heappush(min_heap, edge)\n",
    "\n",
    "        while min_heap:\n",
    "            # Pop the edge with the minimum weight\n",
    "            weight, vertex = heapq.heappop(min_heap)\n",
    "\n",
    "            if vertex not in visited:\n",
    "                # Add the edge to the MST\n",
    "                mst.append((weight, vertex))\n",
    "                visited.add(vertex)\n",
    "\n",
    "                # Add all adjacent edges of the newly visited vertex to the min heap\n",
    "                for edge in self.graph[vertex]:\n",
    "                    if edge[0] not in visited:\n",
    "                        heapq.heappush(min_heap, edge)\n",
    "\n",
    "        return mst\n",
    "\n",
    "# User input to get the number of vertices and edges\n",
    "print(\"Enter the number of vertices:\")\n",
    "num_vertices = int(input())\n",
    "\n",
    "print(\"Enter the number of edges:\")\n",
    "num_edges = int(input())\n",
    "\n",
    "# Create a graph\n",
    "graph = Graph()\n",
    "\n",
    "# User input to add edges and their weights\n",
    "print(\"Enter the edges and their weights (e.g., '0 1 5' means an edge between vertices 0 and 1 with weight 5):\")\n",
    "for _ in range(num_edges):\n",
    "    u, v, weight = map(int, input().split())\n",
    "    graph.add_edge(u, v, weight)\n",
    "\n",
    "# Find and print the Minimum Spanning Tree (MST)\n",
    "mst = graph.prim_mst()\n",
    "\n",
    "print(\"Edges of Minimum Spanning Tree:\")\n",
    "for weight, vertex in mst:\n",
    "    print(vertex, \"-\", vertex + 1, \"\\tWeight:\", weight)\n"
   ]
  },
  {
   "cell_type": "code",
   "execution_count": null,
   "id": "04d9d64b",
   "metadata": {},
   "outputs": [],
   "source": []
  }
 ],
 "metadata": {
  "kernelspec": {
   "display_name": "Python 3 (ipykernel)",
   "language": "python",
   "name": "python3"
  },
  "language_info": {
   "codemirror_mode": {
    "name": "ipython",
    "version": 3
   },
   "file_extension": ".py",
   "mimetype": "text/x-python",
   "name": "python",
   "nbconvert_exporter": "python",
   "pygments_lexer": "ipython3",
   "version": "3.9.1"
  }
 },
 "nbformat": 4,
 "nbformat_minor": 5
}
